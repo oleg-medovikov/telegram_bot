{
 "cells": [
  {
   "cell_type": "code",
   "execution_count": null,
   "id": "7009a3d8-c8c6-4650-80c4-c493a48274d4",
   "metadata": {},
   "outputs": [],
   "source": [
    "1.525 * 0.5"
   ]
  },
  {
   "cell_type": "code",
   "execution_count": null,
   "id": "434bb3a4-2643-4aba-be7c-77aec143af1e",
   "metadata": {},
   "outputs": [],
   "source": [
    "0.188*4"
   ]
  },
  {
   "cell_type": "code",
   "execution_count": null,
   "id": "a929430e-97c7-4f74-b26d-adfd6938495a",
   "metadata": {},
   "outputs": [],
   "source": []
  }
 ],
 "metadata": {
  "kernelspec": {
   "display_name": "Python 3 (ipykernel)",
   "language": "python",
   "name": "python3"
  },
  "language_info": {
   "codemirror_mode": {
    "name": "ipython",
    "version": 3
   },
   "file_extension": ".py",
   "mimetype": "text/x-python",
   "name": "python",
   "nbconvert_exporter": "python",
   "pygments_lexer": "ipython3",
   "version": "3.9.7"
  }
 },
 "nbformat": 4,
 "nbformat_minor": 5
}
